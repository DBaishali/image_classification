{
  "nbformat": 4,
  "nbformat_minor": 0,
  "metadata": {
    "kernelspec": {
      "display_name": "Python 3",
      "language": "python",
      "name": "python3"
    },
    "language_info": {
      "codemirror_mode": {
        "name": "ipython",
        "version": 3
      },
      "file_extension": ".py",
      "mimetype": "text/x-python",
      "name": "python",
      "nbconvert_exporter": "python",
      "pygments_lexer": "ipython3",
      "version": "3.7.6"
    },
    "colab": {
      "provenance": [],
      "toc_visible": true
    },
    "accelerator": "GPU"
  },
  "cells": [
    {
      "cell_type": "code",
      "metadata": {
        "id": "ahP-4UM0POKC"
      },
      "source": [
        "import torch\n",
        "import torchvision\n",
        "import numpy as np\n",
        "from torchvision import datasets,transforms\n",
        "from torch.nn import Conv2d, MaxPool2d, Linear, Module, Dropout, CrossEntropyLoss\n",
        "from torch.nn import functional as F"
      ],
      "execution_count": null,
      "outputs": []
    },
    {
      "cell_type": "code",
      "metadata": {
        "id": "iPpv9IcaPOKL"
      },
      "source": [
        "trainset = torchvision.datasets.MNIST(root='./data/MNIST', train=True, download=True, transform=transforms.Compose([transforms.ToTensor(),transforms.Normalize((0.5,), (0.5,)),]))\n",
        "testset = torchvision.datasets.MNIST(root='./data/MNIST', train=False, download=True, transform=transforms.Compose([transforms.ToTensor(),transforms.Normalize((0.5,), (0.5,)),]))\n",
        "train = torch.utils.data.DataLoader(trainset, batch_size=64, shuffle=True)\n",
        "test = torch.utils.data.DataLoader(testset, batch_size=64, shuffle=True)"
      ],
      "execution_count": 3,
      "outputs": []
    },
    {
      "cell_type": "code",
      "metadata": {
        "id": "TRDMIBFUPOKU"
      },
      "source": [
        "class Net(Module):\n",
        "    def __init__(self):\n",
        "        super(Net,self).__init__()\n",
        "        self.L1=Conv2d(in_channels=1, out_channels=32, kernel_size=(3,3))\n",
        "        self.L2=Conv2d(in_channels=32, out_channels=64, kernel_size=(3,3))\n",
        "        self.L3=MaxPool2d(kernel_size=(2,2))\n",
        "        self.L4=Dropout(p=0.25)\n",
        "        self.L5=Linear(in_features=9216, out_features=128)\n",
        "        self.L6=Dropout()\n",
        "        self.L7=Linear(in_features=128, out_features=10)\n",
        "    def forward(self,x):\n",
        "        x = self.L1(x)\n",
        "        x = F.relu(x)\n",
        "        x = self.L2(x)\n",
        "        x = F.relu(x)\n",
        "        x = self.L3(x)\n",
        "        x = self.L4(x)\n",
        "        x = x.view(-1,9216)\n",
        "        x = self.L5(x)\n",
        "        x = F.relu(x)\n",
        "        x = self.L6(x)\n",
        "        x = self.L7(x)\n",
        "        x = F.softmax(x, dim=1)\n",
        "        return x\n"
      ],
      "execution_count": 4,
      "outputs": []
    },
    {
      "cell_type": "code",
      "metadata": {
        "id": "oxC1e3hVPOKa"
      },
      "source": [
        "net=Net()"
      ],
      "execution_count": 5,
      "outputs": []
    },
    {
      "cell_type": "code",
      "metadata": {
        "id": "s23-KTxFPOKf"
      },
      "source": [
        "import torch.optim as optim\n",
        "criterion = CrossEntropyLoss()\n",
        "optimizer = optim.SGD(net.parameters(), lr=0.001, momentum=0.9)"
      ],
      "execution_count": 6,
      "outputs": []
    },
    {
      "cell_type": "code",
      "metadata": {
        "id": "gGdSN_duPShm"
      },
      "source": [
        "import time\n",
        "start_time=time.time()"
      ],
      "execution_count": 7,
      "outputs": []
    },
    {
      "cell_type": "code",
      "metadata": {
        "id": "oym9H5nPPOKl",
        "outputId": "a253f3a4-87c3-4b6a-e538-5aaf2cb8b5ef",
        "colab": {
          "base_uri": "https://localhost:8080/"
        }
      },
      "source": [
        "for epoch in range(25):\n",
        "    running_loss = 0.0\n",
        "    for i, data in enumerate(train, 0):\n",
        "        inputs, labels = data\n",
        "        optimizer.zero_grad()\n",
        "        outputs = net(inputs)\n",
        "        loss = criterion(outputs, labels)\n",
        "        loss.backward()\n",
        "        optimizer.step()\n",
        "        running_loss += loss.item()\n",
        "    print(epoch + 1, 'loss =', running_loss/len(train))\n",
        "print('Finished Training')"
      ],
      "execution_count": null,
      "outputs": [
        {
          "output_type": "stream",
          "name": "stdout",
          "text": [
            "1 loss = 2.2123342052197406\n",
            "2 loss = 1.7413594112721587\n",
            "3 loss = 1.6446112116008424\n",
            "4 loss = 1.6190547101787414\n",
            "5 loss = 1.6032774238698264\n",
            "6 loss = 1.5973011475127896\n"
          ]
        }
      ]
    },
    {
      "cell_type": "code",
      "metadata": {
        "id": "24CMnlrrPTzS",
        "outputId": "fadb2c8c-1ab0-479c-e972-0817af7d8e0b",
        "colab": {
          "base_uri": "https://localhost:8080/",
          "height": 34
        }
      },
      "source": [
        "gpu_time=time.time()-start_time\n",
        "gpu_time"
      ],
      "execution_count": null,
      "outputs": [
        {
          "output_type": "execute_result",
          "data": {
            "text/plain": [
              "3263.4106233119965"
            ]
          },
          "metadata": {
            "tags": []
          },
          "execution_count": 9
        }
      ]
    },
    {
      "cell_type": "code",
      "metadata": {
        "id": "oLpZlwTUPTdK",
        "outputId": "49cf5a9b-da31-4008-b7a5-f24abd8ec93f",
        "colab": {
          "base_uri": "https://localhost:8080/",
          "height": 34
        }
      },
      "source": [
        "cpu_time=time.time()-start_time\n",
        "cpu_time"
      ],
      "execution_count": null,
      "outputs": [
        {
          "output_type": "execute_result",
          "data": {
            "text/plain": [
              "3446.9949724674225"
            ]
          },
          "metadata": {
            "tags": []
          },
          "execution_count": 11
        }
      ]
    },
    {
      "cell_type": "code",
      "metadata": {
        "id": "FTIO4nX0POKs",
        "outputId": "10d736c8-8b47-40a4-d774-a8366bc0a42a",
        "colab": {
          "base_uri": "https://localhost:8080/",
          "height": 69
        }
      },
      "source": [
        "correct_count, all_count = 0, 0\n",
        "for images,labels in test:\n",
        "    with torch.no_grad():\n",
        "        pred = net(images)\n",
        "    pred = pred.numpy()\n",
        "    for i in range(len(labels)):\n",
        "        pred_label = np.argmax(pred[i])\n",
        "        true_label = labels.numpy()[i]\n",
        "        if(true_label == pred_label):\n",
        "            correct_count += 1\n",
        "        all_count += 1\n",
        "\n",
        "print(\"Number Of Images Tested =\", all_count)\n",
        "print(\"\\nModel Accuracy =\", (correct_count*100/all_count),'%')"
      ],
      "execution_count": null,
      "outputs": [
        {
          "output_type": "stream",
          "text": [
            "Number Of Images Tested = 10000\n",
            "\n",
            "Model Accuracy = 96.25 %\n"
          ],
          "name": "stdout"
        }
      ]
    },
    {
      "cell_type": "code",
      "metadata": {
        "id": "ynVh7ujjPOKw"
      },
      "source": [],
      "execution_count": null,
      "outputs": []
    }
  ]
}